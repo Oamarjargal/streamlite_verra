{
 "cells": [
  {
   "cell_type": "code",
   "execution_count": null,
   "id": "c2167082",
   "metadata": {},
   "outputs": [],
   "source": [
    "import rasterio\n",
    "import geopandas as gpd\n",
    "from shapely.geometry import Polygon\n",
    "from rasterio.mask import mask\n",
    "from rasterio.features import shapes\n",
    "import numpy as np"
   ]
  },
  {
   "cell_type": "code",
   "execution_count": null,
   "id": "0b79c9f8",
   "metadata": {},
   "outputs": [],
   "source": [
    "import geopandas as gpd\n",
    "import rasterio\n",
    "import rasterio.mask\n",
    "import numpy as np\n",
    "\n",
    "def calculate_emissions(project_boundary_path, emissions_factor_path, risk_map_path):\n",
    "    \n",
    "    project_boundary = gpd.read_file(project_boundary_path) ## read project boundary shapefile\n",
    "\n",
    "    with rasterio.open(emissions_factor_path) as emissions:  ## open emissions factor tif & clip it to project boundary \n",
    "        emissions_clipped, emissions_transform = rasterio.mask.mask(emissions, project_boundary.geometry, crop=True) \n",
    "\n",
    "    with rasterio.open(risk_map_path) as risk: ## open risk map & clip it to project boundary\n",
    "        risk_clipped, risk_transform = rasterio.mask.mask(risk, project_boundary.geometry, crop=True)\n",
    "\n",
    "    estimated_emissions = emissions_clipped * risk_clipped # calculate estimated emissions/pixel via instruction in doc section 5.6.2\n",
    "    total_emissions = np.nansum(estimated_emissions)  ## sum all estimated emissions using nansum to ignore NaNs\n",
    "\n",
    "    return total_emissions\n",
    "\n"
   ]
  }
 ],
 "metadata": {
  "kernelspec": {
   "display_name": "Python 3 (ipykernel)",
   "language": "python",
   "name": "python3"
  },
  "language_info": {
   "codemirror_mode": {
    "name": "ipython",
    "version": 3
   },
   "file_extension": ".py",
   "mimetype": "text/x-python",
   "name": "python",
   "nbconvert_exporter": "python",
   "pygments_lexer": "ipython3",
   "version": "3.11.5"
  }
 },
 "nbformat": 4,
 "nbformat_minor": 5
}
